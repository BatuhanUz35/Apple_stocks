{
 "cells": [
  {
   "cell_type": "markdown",
   "id": "c1760f06",
   "metadata": {},
   "source": [
    "**Importing Libraries**"
   ]
  },
  {
   "cell_type": "code",
   "execution_count": 1,
   "id": "0c06cc4d",
   "metadata": {},
   "outputs": [],
   "source": [
    "#Functional libraries\n",
    "import yfinance as yf\n",
    "import numpy as np\n",
    "import pandas as pd\n",
    "\n",
    "#Visualization libraries\n",
    "import matplotlib.pyplot as plt\n",
    "import seaborn as sns\n",
    "\n",
    "#Machine learning libraries\n",
    "from sklearn.model_selection import GridSearchCV, train_test_split\n",
    "from sklearn.ensemble import AdaBoostClassifier\n",
    "from sklearn.metrics import f1_score, precision_score, accuracy_score, recall_score"
   ]
  },
  {
   "cell_type": "markdown",
   "id": "85d0cfd6",
   "metadata": {},
   "source": [
    "**Creating The Dataset**"
   ]
  },
  {
   "cell_type": "code",
   "execution_count": 2,
   "id": "2076570b",
   "metadata": {},
   "outputs": [
    {
     "name": "stdout",
     "output_type": "stream",
     "text": [
      "[*********************100%***********************]  1 of 1 completed\n"
     ]
    }
   ],
   "source": [
    "#Monthly apple stock data past 5 years\n",
    "aapl_5y_monthly_data = yf.download(\"AAPL\", period=\"5y\", interval='1mo')"
   ]
  },
  {
   "cell_type": "markdown",
   "id": "6ad0e9d0",
   "metadata": {},
   "source": [
    "**Data Exploration**"
   ]
  },
  {
   "cell_type": "code",
   "execution_count": 3,
   "id": "fffd575b",
   "metadata": {},
   "outputs": [
    {
     "data": {
      "text/html": [
       "<div>\n",
       "<style scoped>\n",
       "    .dataframe tbody tr th:only-of-type {\n",
       "        vertical-align: middle;\n",
       "    }\n",
       "\n",
       "    .dataframe tbody tr th {\n",
       "        vertical-align: top;\n",
       "    }\n",
       "\n",
       "    .dataframe thead th {\n",
       "        text-align: right;\n",
       "    }\n",
       "</style>\n",
       "<table border=\"1\" class=\"dataframe\">\n",
       "  <thead>\n",
       "    <tr style=\"text-align: right;\">\n",
       "      <th></th>\n",
       "      <th>Open</th>\n",
       "      <th>High</th>\n",
       "      <th>Low</th>\n",
       "      <th>Close</th>\n",
       "      <th>Adj Close</th>\n",
       "      <th>Volume</th>\n",
       "    </tr>\n",
       "    <tr>\n",
       "      <th>Date</th>\n",
       "      <th></th>\n",
       "      <th></th>\n",
       "      <th></th>\n",
       "      <th></th>\n",
       "      <th></th>\n",
       "      <th></th>\n",
       "    </tr>\n",
       "  </thead>\n",
       "  <tbody>\n",
       "    <tr>\n",
       "      <th>2019-09-01</th>\n",
       "      <td>51.607498</td>\n",
       "      <td>56.605000</td>\n",
       "      <td>51.055000</td>\n",
       "      <td>55.992500</td>\n",
       "      <td>54.180805</td>\n",
       "      <td>2170268400</td>\n",
       "    </tr>\n",
       "    <tr>\n",
       "      <th>2019-10-01</th>\n",
       "      <td>56.267502</td>\n",
       "      <td>62.437500</td>\n",
       "      <td>53.782501</td>\n",
       "      <td>62.189999</td>\n",
       "      <td>60.177773</td>\n",
       "      <td>2433210800</td>\n",
       "    </tr>\n",
       "    <tr>\n",
       "      <th>2019-11-01</th>\n",
       "      <td>62.384998</td>\n",
       "      <td>67.000000</td>\n",
       "      <td>62.290001</td>\n",
       "      <td>66.812500</td>\n",
       "      <td>64.650719</td>\n",
       "      <td>1793326000</td>\n",
       "    </tr>\n",
       "    <tr>\n",
       "      <th>2019-12-01</th>\n",
       "      <td>66.817497</td>\n",
       "      <td>73.492500</td>\n",
       "      <td>64.072502</td>\n",
       "      <td>73.412498</td>\n",
       "      <td>71.250435</td>\n",
       "      <td>2388794800</td>\n",
       "    </tr>\n",
       "    <tr>\n",
       "      <th>2020-01-01</th>\n",
       "      <td>74.059998</td>\n",
       "      <td>81.962502</td>\n",
       "      <td>73.187500</td>\n",
       "      <td>77.377502</td>\n",
       "      <td>75.098679</td>\n",
       "      <td>2934370400</td>\n",
       "    </tr>\n",
       "  </tbody>\n",
       "</table>\n",
       "</div>"
      ],
      "text/plain": [
       "                 Open       High        Low      Close  Adj Close      Volume\n",
       "Date                                                                         \n",
       "2019-09-01  51.607498  56.605000  51.055000  55.992500  54.180805  2170268400\n",
       "2019-10-01  56.267502  62.437500  53.782501  62.189999  60.177773  2433210800\n",
       "2019-11-01  62.384998  67.000000  62.290001  66.812500  64.650719  1793326000\n",
       "2019-12-01  66.817497  73.492500  64.072502  73.412498  71.250435  2388794800\n",
       "2020-01-01  74.059998  81.962502  73.187500  77.377502  75.098679  2934370400"
      ]
     },
     "execution_count": 3,
     "metadata": {},
     "output_type": "execute_result"
    }
   ],
   "source": [
    "aapl_5y_monthly_data.head(5)"
   ]
  },
  {
   "cell_type": "code",
   "execution_count": 4,
   "id": "e548d8a4",
   "metadata": {},
   "outputs": [
    {
     "data": {
      "text/plain": [
       "Open         0\n",
       "High         0\n",
       "Low          0\n",
       "Close        0\n",
       "Adj Close    0\n",
       "Volume       0\n",
       "dtype: int64"
      ]
     },
     "execution_count": 4,
     "metadata": {},
     "output_type": "execute_result"
    }
   ],
   "source": [
    "#Checking for null data\n",
    "aapl_5y_monthly_data.isnull().sum()"
   ]
  },
  {
   "cell_type": "code",
   "execution_count": 5,
   "id": "ae1d280a",
   "metadata": {},
   "outputs": [
    {
     "name": "stdout",
     "output_type": "stream",
     "text": [
      "<class 'pandas.core.frame.DataFrame'>\n",
      "DatetimeIndex: 60 entries, 2019-09-01 to 2024-08-01\n",
      "Data columns (total 6 columns):\n",
      " #   Column     Non-Null Count  Dtype  \n",
      "---  ------     --------------  -----  \n",
      " 0   Open       60 non-null     float64\n",
      " 1   High       60 non-null     float64\n",
      " 2   Low        60 non-null     float64\n",
      " 3   Close      60 non-null     float64\n",
      " 4   Adj Close  60 non-null     float64\n",
      " 5   Volume     60 non-null     int64  \n",
      "dtypes: float64(5), int64(1)\n",
      "memory usage: 3.3 KB\n"
     ]
    }
   ],
   "source": [
    "aapl_5y_monthly_data.info()"
   ]
  },
  {
   "cell_type": "code",
   "execution_count": 6,
   "id": "c0407bca",
   "metadata": {},
   "outputs": [
    {
     "data": {
      "text/html": [
       "<div>\n",
       "<style scoped>\n",
       "    .dataframe tbody tr th:only-of-type {\n",
       "        vertical-align: middle;\n",
       "    }\n",
       "\n",
       "    .dataframe tbody tr th {\n",
       "        vertical-align: top;\n",
       "    }\n",
       "\n",
       "    .dataframe thead th {\n",
       "        text-align: right;\n",
       "    }\n",
       "</style>\n",
       "<table border=\"1\" class=\"dataframe\">\n",
       "  <thead>\n",
       "    <tr style=\"text-align: right;\">\n",
       "      <th></th>\n",
       "      <th>Open</th>\n",
       "      <th>High</th>\n",
       "      <th>Low</th>\n",
       "      <th>Close</th>\n",
       "      <th>Adj Close</th>\n",
       "      <th>Volume</th>\n",
       "    </tr>\n",
       "  </thead>\n",
       "  <tbody>\n",
       "    <tr>\n",
       "      <th>count</th>\n",
       "      <td>60.000000</td>\n",
       "      <td>60.000000</td>\n",
       "      <td>60.000000</td>\n",
       "      <td>60.000000</td>\n",
       "      <td>60.000000</td>\n",
       "      <td>6.000000e+01</td>\n",
       "    </tr>\n",
       "    <tr>\n",
       "      <th>mean</th>\n",
       "      <td>141.232458</td>\n",
       "      <td>151.544583</td>\n",
       "      <td>133.016500</td>\n",
       "      <td>143.929708</td>\n",
       "      <td>142.127025</td>\n",
       "      <td>1.975403e+09</td>\n",
       "    </tr>\n",
       "    <tr>\n",
       "      <th>std</th>\n",
       "      <td>42.289438</td>\n",
       "      <td>43.186605</td>\n",
       "      <td>40.166348</td>\n",
       "      <td>42.122630</td>\n",
       "      <td>42.567165</td>\n",
       "      <td>9.113338e+08</td>\n",
       "    </tr>\n",
       "    <tr>\n",
       "      <th>min</th>\n",
       "      <td>51.607498</td>\n",
       "      <td>56.605000</td>\n",
       "      <td>51.055000</td>\n",
       "      <td>55.992500</td>\n",
       "      <td>54.180805</td>\n",
       "      <td>9.518102e+08</td>\n",
       "    </tr>\n",
       "    <tr>\n",
       "      <th>25%</th>\n",
       "      <td>122.997503</td>\n",
       "      <td>133.302505</td>\n",
       "      <td>114.130625</td>\n",
       "      <td>121.927502</td>\n",
       "      <td>119.492598</td>\n",
       "      <td>1.337324e+09</td>\n",
       "    </tr>\n",
       "    <tr>\n",
       "      <th>50%</th>\n",
       "      <td>147.520004</td>\n",
       "      <td>157.320000</td>\n",
       "      <td>136.879997</td>\n",
       "      <td>148.434998</td>\n",
       "      <td>146.598442</td>\n",
       "      <td>1.724416e+09</td>\n",
       "    </tr>\n",
       "    <tr>\n",
       "      <th>75%</th>\n",
       "      <td>171.197502</td>\n",
       "      <td>180.930000</td>\n",
       "      <td>164.137501</td>\n",
       "      <td>172.262497</td>\n",
       "      <td>171.325375</td>\n",
       "      <td>2.338841e+09</td>\n",
       "    </tr>\n",
       "    <tr>\n",
       "      <th>max</th>\n",
       "      <td>224.369995</td>\n",
       "      <td>237.229996</td>\n",
       "      <td>211.919998</td>\n",
       "      <td>226.839996</td>\n",
       "      <td>226.839996</td>\n",
       "      <td>6.280072e+09</td>\n",
       "    </tr>\n",
       "  </tbody>\n",
       "</table>\n",
       "</div>"
      ],
      "text/plain": [
       "             Open        High         Low       Close   Adj Close  \\\n",
       "count   60.000000   60.000000   60.000000   60.000000   60.000000   \n",
       "mean   141.232458  151.544583  133.016500  143.929708  142.127025   \n",
       "std     42.289438   43.186605   40.166348   42.122630   42.567165   \n",
       "min     51.607498   56.605000   51.055000   55.992500   54.180805   \n",
       "25%    122.997503  133.302505  114.130625  121.927502  119.492598   \n",
       "50%    147.520004  157.320000  136.879997  148.434998  146.598442   \n",
       "75%    171.197502  180.930000  164.137501  172.262497  171.325375   \n",
       "max    224.369995  237.229996  211.919998  226.839996  226.839996   \n",
       "\n",
       "             Volume  \n",
       "count  6.000000e+01  \n",
       "mean   1.975403e+09  \n",
       "std    9.113338e+08  \n",
       "min    9.518102e+08  \n",
       "25%    1.337324e+09  \n",
       "50%    1.724416e+09  \n",
       "75%    2.338841e+09  \n",
       "max    6.280072e+09  "
      ]
     },
     "execution_count": 6,
     "metadata": {},
     "output_type": "execute_result"
    }
   ],
   "source": [
    "aapl_5y_monthly_data.describe()"
   ]
  },
  {
   "cell_type": "code",
   "execution_count": 7,
   "id": "3ad81a7f",
   "metadata": {},
   "outputs": [
    {
     "data": {
      "image/png": "[encoded data removed]",
      "text/plain": [
       "<Figure size 640x480 with 1 Axes>"
      ]
     },
     "metadata": {},
     "output_type": "display_data"
    }
   ],
   "source": [
    "sns.lineplot(data=aapl_5y_monthly_data.drop(['Volume', 'Adj Close'], axis=1));"
   ]
  },
  {
   "cell_type": "code",
   "execution_count": 8,
   "id": "b13ef5c7",
   "metadata": {},
   "outputs": [],
   "source": [
    "corr_matrix = aapl_5y_monthly_data.drop('Volume', axis=1).corr()"
   ]
  },
  {
   "cell_type": "code",
   "execution_count": 9,
   "id": "6cc390bb",
   "metadata": {},
   "outputs": [
    {
     "data": {
      "image/png": "[encoded data removed]",
      "text/plain": [
       "<Figure size 640x480 with 2 Axes>"
      ]
     },
     "metadata": {},
     "output_type": "display_data"
    }
   ],
   "source": [
    "#Checking for correlations\n",
    "sns.heatmap(corr_matrix, annot=True);"
   ]
  },
  {
   "cell_type": "markdown",
   "id": "8a8be338",
   "metadata": {},
   "source": [
    "**Data Cleaning**"
   ]
  },
  {
   "cell_type": "code",
   "execution_count": 10,
   "id": "10afe6d9",
   "metadata": {},
   "outputs": [],
   "source": [
    "#Dropped Adj Close due to high correlation with Close\n",
    "aapl_5y_monthly_data = aapl_5y_monthly_data.drop('Adj Close', axis=1)"
   ]
  },
  {
   "cell_type": "code",
   "execution_count": 11,
   "id": "1b808f69",
   "metadata": {},
   "outputs": [],
   "source": [
    "#Created new feature Previous Return% that will be benefitial in machine learning\n",
    "aapl_5y_monthly_data['Return%'] = aapl_5y_monthly_data['Close'] / aapl_5y_monthly_data['Open'] - 1\n",
    "aapl_5y_monthly_data['Previous Return%'] = aapl_5y_monthly_data['Return%'].shift(1)"
   ]
  },
  {
   "cell_type": "code",
   "execution_count": 12,
   "id": "bdd04da1",
   "metadata": {},
   "outputs": [],
   "source": [
    "aapl_5y_monthly_data['Volume Change%'] = aapl_5y_monthly_data['Volume'] / aapl_5y_monthly_data['Volume'].shift(1) - 1"
   ]
  },
  {
   "cell_type": "code",
   "execution_count": 13,
   "id": "39adb3ea",
   "metadata": {},
   "outputs": [],
   "source": [
    "#Direction feature classifies if the stock value is increased or decreased\n",
    "aapl_5y_monthly_data['Direction'] = [1 if x >= 0 else 0 for x in aapl_5y_monthly_data['Return%']]"
   ]
  },
  {
   "cell_type": "code",
   "execution_count": 14,
   "id": "5acfe0e4",
   "metadata": {},
   "outputs": [
    {
     "data": {
      "text/html": [
       "<div>\n",
       "<style scoped>\n",
       "    .dataframe tbody tr th:only-of-type {\n",
       "        vertical-align: middle;\n",
       "    }\n",
       "\n",
       "    .dataframe tbody tr th {\n",
       "        vertical-align: top;\n",
       "    }\n",
       "\n",
       "    .dataframe thead th {\n",
       "        text-align: right;\n",
       "    }\n",
       "</style>\n",
       "<table border=\"1\" class=\"dataframe\">\n",
       "  <thead>\n",
       "    <tr style=\"text-align: right;\">\n",
       "      <th></th>\n",
       "      <th>Open</th>\n",
       "      <th>High</th>\n",
       "      <th>Low</th>\n",
       "      <th>Close</th>\n",
       "      <th>Volume</th>\n",
       "      <th>Return%</th>\n",
       "      <th>Previous Return%</th>\n",
       "      <th>Volume Change%</th>\n",
       "      <th>Direction</th>\n",
       "    </tr>\n",
       "    <tr>\n",
       "      <th>Date</th>\n",
       "      <th></th>\n",
       "      <th></th>\n",
       "      <th></th>\n",
       "      <th></th>\n",
       "      <th></th>\n",
       "      <th></th>\n",
       "      <th></th>\n",
       "      <th></th>\n",
       "      <th></th>\n",
       "    </tr>\n",
       "  </thead>\n",
       "  <tbody>\n",
       "    <tr>\n",
       "      <th>2019-09-01</th>\n",
       "      <td>51.607498</td>\n",
       "      <td>56.605000</td>\n",
       "      <td>51.055000</td>\n",
       "      <td>55.992500</td>\n",
       "      <td>2170268400</td>\n",
       "      <td>0.084968</td>\n",
       "      <td>NaN</td>\n",
       "      <td>NaN</td>\n",
       "      <td>1</td>\n",
       "    </tr>\n",
       "    <tr>\n",
       "      <th>2019-10-01</th>\n",
       "      <td>56.267502</td>\n",
       "      <td>62.437500</td>\n",
       "      <td>53.782501</td>\n",
       "      <td>62.189999</td>\n",
       "      <td>2433210800</td>\n",
       "      <td>0.105256</td>\n",
       "      <td>0.084968</td>\n",
       "      <td>0.121157</td>\n",
       "      <td>1</td>\n",
       "    </tr>\n",
       "    <tr>\n",
       "      <th>2019-11-01</th>\n",
       "      <td>62.384998</td>\n",
       "      <td>67.000000</td>\n",
       "      <td>62.290001</td>\n",
       "      <td>66.812500</td>\n",
       "      <td>1793326000</td>\n",
       "      <td>0.070971</td>\n",
       "      <td>0.105256</td>\n",
       "      <td>-0.262980</td>\n",
       "      <td>1</td>\n",
       "    </tr>\n",
       "    <tr>\n",
       "      <th>2019-12-01</th>\n",
       "      <td>66.817497</td>\n",
       "      <td>73.492500</td>\n",
       "      <td>64.072502</td>\n",
       "      <td>73.412498</td>\n",
       "      <td>2388794800</td>\n",
       "      <td>0.098702</td>\n",
       "      <td>0.070971</td>\n",
       "      <td>0.332047</td>\n",
       "      <td>1</td>\n",
       "    </tr>\n",
       "    <tr>\n",
       "      <th>2020-01-01</th>\n",
       "      <td>74.059998</td>\n",
       "      <td>81.962502</td>\n",
       "      <td>73.187500</td>\n",
       "      <td>77.377502</td>\n",
       "      <td>2934370400</td>\n",
       "      <td>0.044795</td>\n",
       "      <td>0.098702</td>\n",
       "      <td>0.228389</td>\n",
       "      <td>1</td>\n",
       "    </tr>\n",
       "  </tbody>\n",
       "</table>\n",
       "</div>"
      ],
      "text/plain": [
       "                 Open       High        Low      Close      Volume   Return%  \\\n",
       "Date                                                                           \n",
       "2019-09-01  51.607498  56.605000  51.055000  55.992500  2170268400  0.084968   \n",
       "2019-10-01  56.267502  62.437500  53.782501  62.189999  2433210800  0.105256   \n",
       "2019-11-01  62.384998  67.000000  62.290001  66.812500  1793326000  0.070971   \n",
       "2019-12-01  66.817497  73.492500  64.072502  73.412498  2388794800  0.098702   \n",
       "2020-01-01  74.059998  81.962502  73.187500  77.377502  2934370400  0.044795   \n",
       "\n",
       "            Previous Return%  Volume Change%  Direction  \n",
       "Date                                                     \n",
       "2019-09-01               NaN             NaN          1  \n",
       "2019-10-01          0.084968        0.121157          1  \n",
       "2019-11-01          0.105256       -0.262980          1  \n",
       "2019-12-01          0.070971        0.332047          1  \n",
       "2020-01-01          0.098702        0.228389          1  "
      ]
     },
     "execution_count": 14,
     "metadata": {},
     "output_type": "execute_result"
    }
   ],
   "source": [
    "aapl_5y_monthly_data.head(5)"
   ]
  },
  {
   "cell_type": "code",
   "execution_count": 15,
   "id": "714afff7",
   "metadata": {},
   "outputs": [],
   "source": [
    "aapl_5y_monthly_data.iloc[0, aapl_5y_monthly_data.columns.get_indexer(['Previous Return%', 'Volume Change%'])] = 0"
   ]
  },
  {
   "cell_type": "code",
   "execution_count": 16,
   "id": "99d894b0",
   "metadata": {},
   "outputs": [
    {
     "data": {
      "text/html": [
       "<div>\n",
       "<style scoped>\n",
       "    .dataframe tbody tr th:only-of-type {\n",
       "        vertical-align: middle;\n",
       "    }\n",
       "\n",
       "    .dataframe tbody tr th {\n",
       "        vertical-align: top;\n",
       "    }\n",
       "\n",
       "    .dataframe thead th {\n",
       "        text-align: right;\n",
       "    }\n",
       "</style>\n",
       "<table border=\"1\" class=\"dataframe\">\n",
       "  <thead>\n",
       "    <tr style=\"text-align: right;\">\n",
       "      <th></th>\n",
       "      <th>Open</th>\n",
       "      <th>High</th>\n",
       "      <th>Low</th>\n",
       "      <th>Close</th>\n",
       "      <th>Volume</th>\n",
       "      <th>Return%</th>\n",
       "      <th>Previous Return%</th>\n",
       "      <th>Volume Change%</th>\n",
       "      <th>Direction</th>\n",
       "    </tr>\n",
       "    <tr>\n",
       "      <th>Date</th>\n",
       "      <th></th>\n",
       "      <th></th>\n",
       "      <th></th>\n",
       "      <th></th>\n",
       "      <th></th>\n",
       "      <th></th>\n",
       "      <th></th>\n",
       "      <th></th>\n",
       "      <th></th>\n",
       "    </tr>\n",
       "  </thead>\n",
       "  <tbody>\n",
       "    <tr>\n",
       "      <th>2019-09-01</th>\n",
       "      <td>51.607498</td>\n",
       "      <td>56.605000</td>\n",
       "      <td>51.055000</td>\n",
       "      <td>55.992500</td>\n",
       "      <td>2170268400</td>\n",
       "      <td>0.084968</td>\n",
       "      <td>0.000000</td>\n",
       "      <td>0.000000</td>\n",
       "      <td>1</td>\n",
       "    </tr>\n",
       "    <tr>\n",
       "      <th>2019-10-01</th>\n",
       "      <td>56.267502</td>\n",
       "      <td>62.437500</td>\n",
       "      <td>53.782501</td>\n",
       "      <td>62.189999</td>\n",
       "      <td>2433210800</td>\n",
       "      <td>0.105256</td>\n",
       "      <td>0.084968</td>\n",
       "      <td>0.121157</td>\n",
       "      <td>1</td>\n",
       "    </tr>\n",
       "    <tr>\n",
       "      <th>2019-11-01</th>\n",
       "      <td>62.384998</td>\n",
       "      <td>67.000000</td>\n",
       "      <td>62.290001</td>\n",
       "      <td>66.812500</td>\n",
       "      <td>1793326000</td>\n",
       "      <td>0.070971</td>\n",
       "      <td>0.105256</td>\n",
       "      <td>-0.262980</td>\n",
       "      <td>1</td>\n",
       "    </tr>\n",
       "    <tr>\n",
       "      <th>2019-12-01</th>\n",
       "      <td>66.817497</td>\n",
       "      <td>73.492500</td>\n",
       "      <td>64.072502</td>\n",
       "      <td>73.412498</td>\n",
       "      <td>2388794800</td>\n",
       "      <td>0.098702</td>\n",
       "      <td>0.070971</td>\n",
       "      <td>0.332047</td>\n",
       "      <td>1</td>\n",
       "    </tr>\n",
       "    <tr>\n",
       "      <th>2020-01-01</th>\n",
       "      <td>74.059998</td>\n",
       "      <td>81.962502</td>\n",
       "      <td>73.187500</td>\n",
       "      <td>77.377502</td>\n",
       "      <td>2934370400</td>\n",
       "      <td>0.044795</td>\n",
       "      <td>0.098702</td>\n",
       "      <td>0.228389</td>\n",
       "      <td>1</td>\n",
       "    </tr>\n",
       "  </tbody>\n",
       "</table>\n",
       "</div>"
      ],
      "text/plain": [
       "                 Open       High        Low      Close      Volume   Return%  \\\n",
       "Date                                                                           \n",
       "2019-09-01  51.607498  56.605000  51.055000  55.992500  2170268400  0.084968   \n",
       "2019-10-01  56.267502  62.437500  53.782501  62.189999  2433210800  0.105256   \n",
       "2019-11-01  62.384998  67.000000  62.290001  66.812500  1793326000  0.070971   \n",
       "2019-12-01  66.817497  73.492500  64.072502  73.412498  2388794800  0.098702   \n",
       "2020-01-01  74.059998  81.962502  73.187500  77.377502  2934370400  0.044795   \n",
       "\n",
       "            Previous Return%  Volume Change%  Direction  \n",
       "Date                                                     \n",
       "2019-09-01          0.000000        0.000000          1  \n",
       "2019-10-01          0.084968        0.121157          1  \n",
       "2019-11-01          0.105256       -0.262980          1  \n",
       "2019-12-01          0.070971        0.332047          1  \n",
       "2020-01-01          0.098702        0.228389          1  "
      ]
     },
     "execution_count": 16,
     "metadata": {},
     "output_type": "execute_result"
    }
   ],
   "source": [
    "aapl_5y_monthly_data.head(5)"
   ]
  },
  {
   "cell_type": "code",
   "execution_count": 17,
   "id": "21464aef",
   "metadata": {},
   "outputs": [
    {
     "data": {
      "text/html": [
       "<div>\n",
       "<style scoped>\n",
       "    .dataframe tbody tr th:only-of-type {\n",
       "        vertical-align: middle;\n",
       "    }\n",
       "\n",
       "    .dataframe tbody tr th {\n",
       "        vertical-align: top;\n",
       "    }\n",
       "\n",
       "    .dataframe thead th {\n",
       "        text-align: right;\n",
       "    }\n",
       "</style>\n",
       "<table border=\"1\" class=\"dataframe\">\n",
       "  <thead>\n",
       "    <tr style=\"text-align: right;\">\n",
       "      <th></th>\n",
       "      <th>Open</th>\n",
       "      <th>High</th>\n",
       "      <th>Low</th>\n",
       "      <th>Close</th>\n",
       "      <th>Volume</th>\n",
       "      <th>Return%</th>\n",
       "      <th>Previous Return%</th>\n",
       "      <th>Volume Change%</th>\n",
       "      <th>Direction</th>\n",
       "    </tr>\n",
       "    <tr>\n",
       "      <th>Date</th>\n",
       "      <th></th>\n",
       "      <th></th>\n",
       "      <th></th>\n",
       "      <th></th>\n",
       "      <th></th>\n",
       "      <th></th>\n",
       "      <th></th>\n",
       "      <th></th>\n",
       "      <th></th>\n",
       "    </tr>\n",
       "  </thead>\n",
       "  <tbody>\n",
       "    <tr>\n",
       "      <th>2024-04-01</th>\n",
       "      <td>171.190002</td>\n",
       "      <td>178.360001</td>\n",
       "      <td>164.080002</td>\n",
       "      <td>170.330002</td>\n",
       "      <td>1245717000</td>\n",
       "      <td>-0.005024</td>\n",
       "      <td>-0.044946</td>\n",
       "      <td>-0.130561</td>\n",
       "      <td>0</td>\n",
       "    </tr>\n",
       "    <tr>\n",
       "      <th>2024-05-01</th>\n",
       "      <td>169.580002</td>\n",
       "      <td>193.000000</td>\n",
       "      <td>169.110001</td>\n",
       "      <td>192.250000</td>\n",
       "      <td>1336537700</td>\n",
       "      <td>0.133683</td>\n",
       "      <td>-0.005024</td>\n",
       "      <td>0.072906</td>\n",
       "      <td>1</td>\n",
       "    </tr>\n",
       "    <tr>\n",
       "      <th>2024-06-01</th>\n",
       "      <td>192.899994</td>\n",
       "      <td>220.199997</td>\n",
       "      <td>192.149994</td>\n",
       "      <td>210.619995</td>\n",
       "      <td>1723984500</td>\n",
       "      <td>0.091861</td>\n",
       "      <td>0.133683</td>\n",
       "      <td>0.289888</td>\n",
       "      <td>1</td>\n",
       "    </tr>\n",
       "    <tr>\n",
       "      <th>2024-07-01</th>\n",
       "      <td>212.089996</td>\n",
       "      <td>237.229996</td>\n",
       "      <td>211.919998</td>\n",
       "      <td>222.080002</td>\n",
       "      <td>1153099800</td>\n",
       "      <td>0.047103</td>\n",
       "      <td>0.091861</td>\n",
       "      <td>-0.331143</td>\n",
       "      <td>1</td>\n",
       "    </tr>\n",
       "    <tr>\n",
       "      <th>2024-08-01</th>\n",
       "      <td>224.369995</td>\n",
       "      <td>228.339996</td>\n",
       "      <td>196.000000</td>\n",
       "      <td>226.839996</td>\n",
       "      <td>951810250</td>\n",
       "      <td>0.011009</td>\n",
       "      <td>0.047103</td>\n",
       "      <td>-0.174564</td>\n",
       "      <td>1</td>\n",
       "    </tr>\n",
       "  </tbody>\n",
       "</table>\n",
       "</div>"
      ],
      "text/plain": [
       "                  Open        High         Low       Close      Volume  \\\n",
       "Date                                                                     \n",
       "2024-04-01  171.190002  178.360001  164.080002  170.330002  1245717000   \n",
       "2024-05-01  169.580002  193.000000  169.110001  192.250000  1336537700   \n",
       "2024-06-01  192.899994  220.199997  192.149994  210.619995  1723984500   \n",
       "2024-07-01  212.089996  237.229996  211.919998  222.080002  1153099800   \n",
       "2024-08-01  224.369995  228.339996  196.000000  226.839996   951810250   \n",
       "\n",
       "             Return%  Previous Return%  Volume Change%  Direction  \n",
       "Date                                                               \n",
       "2024-04-01 -0.005024         -0.044946       -0.130561          0  \n",
       "2024-05-01  0.133683         -0.005024        0.072906          1  \n",
       "2024-06-01  0.091861          0.133683        0.289888          1  \n",
       "2024-07-01  0.047103          0.091861       -0.331143          1  \n",
       "2024-08-01  0.011009          0.047103       -0.174564          1  "
      ]
     },
     "execution_count": 17,
     "metadata": {},
     "output_type": "execute_result"
    }
   ],
   "source": [
    "aapl_5y_monthly_data.tail(5)"
   ]
  },
  {
   "cell_type": "markdown",
   "id": "39c933a6",
   "metadata": {},
   "source": [
    "**Machine Learning**"
   ]
  },
  {
   "cell_type": "code",
   "execution_count": 18,
   "id": "14b48865",
   "metadata": {},
   "outputs": [],
   "source": [
    "#Creating variables that will be used in machine learning algorithm\n",
    "X = aapl_5y_monthly_data[['Previous Return%', 'Volume Change%']]\n",
    "y = aapl_5y_monthly_data['Direction']"
   ]
  },
  {
   "cell_type": "code",
   "execution_count": 19,
   "id": "fb4ec5e3",
   "metadata": {},
   "outputs": [],
   "source": [
    "#Splitting data for training and testing\n",
    "X_train, X_test, y_train, y_test = train_test_split(X, y, test_size=0.25, random_state=35)"
   ]
  },
  {
   "cell_type": "code",
   "execution_count": 20,
   "id": "4e033762",
   "metadata": {},
   "outputs": [],
   "source": [
    "abc = AdaBoostClassifier(random_state=35)"
   ]
  },
  {
   "cell_type": "code",
   "execution_count": 21,
   "id": "d83c028d",
   "metadata": {},
   "outputs": [],
   "source": [
    "#Grid search parameters\n",
    "params = {\n",
    "    'n_estimators': [50, 100, 1000],\n",
    "    'learning_rate': [0.7, 0.8, 1]\n",
    "         }"
   ]
  },
  {
   "cell_type": "code",
   "execution_count": 22,
   "id": "2aa758e0",
   "metadata": {},
   "outputs": [],
   "source": [
    "gscv = GridSearchCV(abc, params)"
   ]
  },
  {
   "cell_type": "code",
   "execution_count": 23,
   "id": "6ecaec2c",
   "metadata": {},
   "outputs": [
    {
     "data": {
      "text/plain": [
       "GridSearchCV(estimator=AdaBoostClassifier(random_state=35),\n",
       "             param_grid={'learning_rate': [0.7, 0.8, 1],\n",
       "                         'n_estimators': [50, 100, 1000]})"
      ]
     },
     "execution_count": 23,
     "metadata": {},
     "output_type": "execute_result"
    }
   ],
   "source": [
    "gscv.fit(X_train, y_train)"
   ]
  },
  {
   "cell_type": "code",
   "execution_count": 24,
   "id": "76614dc2",
   "metadata": {},
   "outputs": [
    {
     "data": {
      "text/plain": [
       "0.5777777777777778"
      ]
     },
     "execution_count": 24,
     "metadata": {},
     "output_type": "execute_result"
    }
   ],
   "source": [
    "gscv.best_score_"
   ]
  },
  {
   "cell_type": "code",
   "execution_count": 25,
   "id": "266138f5",
   "metadata": {},
   "outputs": [
    {
     "data": {
      "text/plain": [
       "{'learning_rate': 0.7, 'n_estimators': 50}"
      ]
     },
     "execution_count": 25,
     "metadata": {},
     "output_type": "execute_result"
    }
   ],
   "source": [
    "gscv.best_params_"
   ]
  },
  {
   "cell_type": "code",
   "execution_count": 26,
   "id": "9e839b04",
   "metadata": {},
   "outputs": [],
   "source": [
    "#Redefining classifier with optimal parameters\n",
    "abc = AdaBoostClassifier(random_state=35, learning_rate=0.7, n_estimators=50)"
   ]
  },
  {
   "cell_type": "code",
   "execution_count": 27,
   "id": "3f3862fe",
   "metadata": {},
   "outputs": [
    {
     "data": {
      "text/plain": [
       "AdaBoostClassifier(learning_rate=0.7, random_state=35)"
      ]
     },
     "execution_count": 27,
     "metadata": {},
     "output_type": "execute_result"
    }
   ],
   "source": [
    "abc.fit(X_train, y_train)"
   ]
  },
  {
   "cell_type": "code",
   "execution_count": 28,
   "id": "e83370d7",
   "metadata": {},
   "outputs": [],
   "source": [
    "y_pred = abc.predict(X_test)"
   ]
  },
  {
   "cell_type": "code",
   "execution_count": 29,
   "id": "c16ce957",
   "metadata": {},
   "outputs": [
    {
     "name": "stdout",
     "output_type": "stream",
     "text": [
      "f1_score: 0.5\n",
      "recall_score: 0.5714285714285714\n",
      "accuracy_score: 0.4666666666666667\n",
      "precision_score: 0.4444444444444444\n"
     ]
    }
   ],
   "source": [
    "#Printing metrics to evaluate how the model performed\n",
    "print(f'f1_score: {f1_score(y_test, y_pred)}')\n",
    "print(f'recall_score: {recall_score(y_test, y_pred)}')\n",
    "print(f'accuracy_score: {accuracy_score(y_test, y_pred)}')\n",
    "print(f'precision_score: {precision_score(y_test, y_pred)}')"
   ]
  },
  {
   "cell_type": "code",
   "execution_count": 30,
   "id": "7457bf92",
   "metadata": {},
   "outputs": [
    {
     "data": {
      "image/png": "[encoded data removed]",
      "text/plain": [
       "<Figure size 500x300 with 1 Axes>"
      ]
     },
     "metadata": {},
     "output_type": "display_data"
    }
   ],
   "source": [
    "plt.figure(figsize=(5, 3))\n",
    "sns.barplot(x=X.columns, y=abc.feature_importances_, width=0.4)\n",
    "plt.title('Feature importances');"
   ]
  },
  {
   "cell_type": "code",
   "execution_count": null,
   "id": "c52b4970",
   "metadata": {},
   "outputs": [],
   "source": []
  }
 ],
 "metadata": {
  "kernelspec": {
   "display_name": "Python 3 (ipykernel)",
   "language": "python",
   "name": "python3"
  },
  "language_info": {
   "codemirror_mode": {
    "name": "ipython",
    "version": 3
   },
   "file_extension": ".py",
   "mimetype": "text/x-python",
   "name": "python",
   "nbconvert_exporter": "python",
   "pygments_lexer": "ipython3",
   "version": "3.9.13"
  }
 },
 "nbformat": 4,
 "nbformat_minor": 5
}
